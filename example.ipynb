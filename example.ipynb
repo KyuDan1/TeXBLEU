{
 "cells": [
  {
   "cell_type": "code",
   "execution_count": 1,
   "metadata": {},
   "outputs": [
    {
     "name": "stdout",
     "output_type": "stream",
     "text": [
      "Decoded tokens: ['F', '(', 'x', ')', '={', ' \\\\', 'sq', 'rt', '{', ' \\\\', 'frac', '{', '10', 'x', '^{', '-', '8', '}}', '{', '-', '8', '}}}', '+', 'C', '_{', '1', '}', ' =', '-', '{', ' \\\\', 'frac', '{', '5', '}{', '4', 'x', '^{', '8', '}}}', '+', 'C', '_{', '1', '}', ' \\\\', 'quad', '{', ' \\\\', 'math', 'rm', ' {', 'if', '~', '}}', 'x', '<', '0', '.']\n",
      "Decoded tokens: ['F', '(', 'x', ')=', ' \\\\', 'sq', 'rt', '{', '10', '}', 'x', '^{', '-', '8', '/-', '8', '}', '+', 'C', '_{', '1', '}', '=-', ' \\\\', 'frac', '{', '5', '}', ' {', '4', '}', 'x', '^{', '8', '}', '+', 'C', '_{', '1', '}', ' \\\\', 'quad', ' \\\\', 'math', 'rm', '{', 'if', '~', '}', 'x', '<', '0', '.']\n"
     ]
    },
    {
     "data": {
      "text/plain": [
       "0.7903"
      ]
     },
     "execution_count": 1,
     "metadata": {},
     "output_type": "execute_result"
    }
   ],
   "source": [
    "from new_metric import texbleu\n",
    "\n",
    "reference = r\"F(x)={\\sqrt{\\frac{10x^{-8}}{-8}}}+C_{1} =-{\\frac{5}{4x^{8}}}+C_{1}\\quad{\\mathrm {if~}}x<0.\"\n",
    "candidate1 = r\"F(x)=\\sqrt{10}x^{-8/-8}+C_{1}=-\\frac{5} {4}x^{8}+C_{1}\\quad\\mathrm{if~}x<0.\"\n",
    "texbleu(reference,candidate1)"
   ]
  },
  {
   "cell_type": "code",
   "execution_count": 2,
   "metadata": {},
   "outputs": [
    {
     "name": "stdout",
     "output_type": "stream",
     "text": [
      "Decoded tokens: [' \\\\', 'frac', '{', '3', '}{', '2', '}']\n",
      "Decoded tokens: ['3', '/', '2']\n"
     ]
    },
    {
     "data": {
      "text/plain": [
       "0.7"
      ]
     },
     "execution_count": 2,
     "metadata": {},
     "output_type": "execute_result"
    }
   ],
   "source": [
    "from new_metric import texbleu\n",
    "\n",
    "reference = r\"\\frac{3}{2}\"\n",
    "candidate1 = r\"3/2\"\n",
    "texbleu(reference,candidate1)"
   ]
  },
  {
   "cell_type": "code",
   "execution_count": 3,
   "metadata": {},
   "outputs": [
    {
     "name": "stdout",
     "output_type": "stream",
     "text": [
      "Decoded tokens: ['x', ' =', ' \\\\', 'frac', '{{', '-', 'b', ' \\\\', 'pm', ' \\\\', 'sq', 'rt', '{{', 'b', '^', '2', ' -', ' 4', 'ac', '}}', '}}', '{{', '2', 'a', '}}']\n",
      "Decoded tokens: ['3', '/', '2']\n"
     ]
    },
    {
     "data": {
      "text/plain": [
       "0.7864"
      ]
     },
     "execution_count": 3,
     "metadata": {},
     "output_type": "execute_result"
    }
   ],
   "source": [
    "from new_metric import texbleu\n",
    "reference = r\"x = \\frac{{-b \\pm \\sqrt{{b^2 - 4ac}}}}{{2a}}\"\n",
    "candidate1 = r\"3/2\"\n",
    "texbleu(reference,candidate1)"
   ]
  },
  {
   "cell_type": "code",
   "execution_count": null,
   "metadata": {},
   "outputs": [],
   "source": []
  }
 ],
 "metadata": {
  "kernelspec": {
   "display_name": "venv",
   "language": "python",
   "name": "python3"
  },
  "language_info": {
   "codemirror_mode": {
    "name": "ipython",
    "version": 3
   },
   "file_extension": ".py",
   "mimetype": "text/x-python",
   "name": "python",
   "nbconvert_exporter": "python",
   "pygments_lexer": "ipython3",
   "version": "3.12.2"
  }
 },
 "nbformat": 4,
 "nbformat_minor": 2
}
