{
 "cells": [
  {
   "cell_type": "markdown",
   "metadata": {},
   "source": [
    "F(x)=\\sqrt{10}x^{-8/-8}+C_{1}=-\\frac{5} {4}x^{8}+C_{1}\\quad\\mathrm{if~}x<0."
   ]
  },
  {
   "cell_type": "markdown",
   "metadata": {},
   "source": [
    "$F(x)=\\sqrt{10}x^{-8/-8}+C_{1}=-\\frac{5} {4}x^{8}+C_{1}\\quad\\mathrm{if~}x<0.$"
   ]
  },
  {
   "cell_type": "markdown",
   "metadata": {},
   "source": [
    "F(x)={\\sqrt{\\frac{10x^{-8}}{-8}}}+C_{1} =-{\\frac{5}{4x^{8}}}+C_{1}\\quad{\\mathrm {if~}}x<0."
   ]
  },
  {
   "cell_type": "markdown",
   "metadata": {},
   "source": [
    "$F(x)={\\sqrt{\\frac{10x^{-8}}{-8}}}+C_{1} =-{\\frac{5}{4x^{8}}}+C_{1}\\quad{\\mathrm {if~}}x<0.$"
   ]
  },
  {
   "cell_type": "code",
   "execution_count": 16,
   "metadata": {},
   "outputs": [
    {
     "data": {
      "application/vnd.jupyter.widget-view+json": {
       "model_id": "02162c2603d84c88bae50965efbd2c59",
       "version_major": 2,
       "version_minor": 0
      },
      "text/plain": [
       "Fetching 2 files:   0%|          | 0/2 [00:00<?, ?it/s]"
      ]
     },
     "metadata": {},
     "output_type": "display_data"
    },
    {
     "name": "stdout",
     "output_type": "stream",
     "text": [
      "ref_tokens : ['F', '(', 'x', ')=', '{', '\\\\', 'sqrt', '{', '\\\\', 'frac', '{', '10', 'x', '^{-', '8', '}}', '{-', '8', '}}}', '+', 'C_', '{', '1', '}', '=-', '{', '\\\\', 'frac', '{', '5', '}{', '4x', '^{', '8', '}}}', '+', 'C_', '{', '1', '}', '\\\\', 'quad', '{', '\\\\', 'mathrm', '{', 'if', '~', '}}', 'x', '<', '0', '.']\n",
      "cand_tokens : ['F', '(', 'x', ')=', '\\\\', 'sqrt', '{', '10', '}', 'x', '^{-', '8', '/-', '8', '}+', 'C_', '{', '1', '}=-', '\\\\', 'frac', '{', '5', '}', '{', '4', '}', 'x', '^{', '8', '}+', 'C_', '{', '1', '}', '\\\\', 'quad', '\\\\', 'mathrm', '{', 'if', '~}', 'x', '<', '0', '.']\n",
      "TeXBLEU score for candidate1: 0.0473\n"
     ]
    }
   ],
   "source": [
    "from metric import TeXBLEU\n",
    "\n",
    "texbleu = TeXBLEU(\"Kyudan/TeXBLEU-Tokenizer\")\n",
    "\n",
    "reference = r\"F(x)={\\sqrt{\\frac{10x^{-8}}{-8}}}+C_{1} =-{\\frac{5}{4x^{8}}}+C_{1}\\quad{\\mathrm {if~}}x<0.\"\n",
    "candidate1 = r\"F(x)=\\sqrt{10}x^{-8/-8}+C_{1}=-\\frac{5} {4}x^{8}+C_{1}\\quad\\mathrm{if~}x<0.\"\n",
    "\n",
    "score1 = texbleu.calculate_texbleu(reference, candidate1)\n",
    "print(f\"TeXBLEU score for candidate1: {score1:.4f}\") "
   ]
  },
  {
   "cell_type": "code",
   "execution_count": null,
   "metadata": {},
   "outputs": [],
   "source": []
  }
 ],
 "metadata": {
  "kernelspec": {
   "display_name": "venv",
   "language": "python",
   "name": "python3"
  },
  "language_info": {
   "codemirror_mode": {
    "name": "ipython",
    "version": 3
   },
   "file_extension": ".py",
   "mimetype": "text/x-python",
   "name": "python",
   "nbconvert_exporter": "python",
   "pygments_lexer": "ipython3",
   "version": "3.12.2"
  }
 },
 "nbformat": 4,
 "nbformat_minor": 2
}
