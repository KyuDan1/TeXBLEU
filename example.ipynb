{
 "cells": [
  {
   "cell_type": "markdown",
   "metadata": {},
   "source": [
    "F(x)=\\sqrt{10}x^{-8/-8}+C_{1}=-\\frac{5} {4}x^{8}+C_{1}\\quad\\mathrm{if~}x<0."
   ]
  },
  {
   "cell_type": "markdown",
   "metadata": {},
   "source": [
    "$F(x)=\\sqrt{10}x^{-8/-8}+C_{1}=-\\frac{5} {4}x^{8}+C_{1}\\quad\\mathrm{if~}x<0.$"
   ]
  },
  {
   "cell_type": "markdown",
   "metadata": {},
   "source": [
    "F(x)={\\sqrt{\\frac{10x^{-8}}{-8}}}+C_{1} =-{\\frac{5}{4x^{8}}}+C_{1}\\quad{\\mathrm {if~}}x<0."
   ]
  },
  {
   "cell_type": "markdown",
   "metadata": {},
   "source": [
    "$F(x)={\\sqrt{\\frac{10x^{-8}}{-8}}}+C_{1} =-{\\frac{5}{4x^{8}}}+C_{1}\\quad{\\mathrm {if~}}x<0.$"
   ]
  },
  {
   "cell_type": "code",
   "execution_count": 1,
   "metadata": {},
   "outputs": [
    {
     "data": {
      "application/vnd.jupyter.widget-view+json": {
       "model_id": "a2b562ea32d64556b4e7b8402590b0ac",
       "version_major": 2,
       "version_minor": 0
      },
      "text/plain": [
       "Fetching 3 files:   0%|          | 0/3 [00:00<?, ?it/s]"
      ]
     },
     "metadata": {},
     "output_type": "display_data"
    },
    {
     "name": "stdout",
     "output_type": "stream",
     "text": [
      "ref_tokens : ['F', '(', 'x', ')=', '{', '\\\\', 'sqrt', '{', '\\\\', 'frac', '{', '10', 'x', '^{-', '8', '}}', '{-', '8', '}}}', '+', 'C_', '{', '1', '}', '=-', '{', '\\\\', 'frac', '{', '5', '}{', '4x', '^{', '8', '}}}', '+', 'C_', '{', '1', '}', '\\\\', 'quad', '{', '\\\\', 'mathrm', '{', 'if', '~', '}}', 'x', '<', '0', '.']\n",
      "cand_tokens : ['F', '(', 'x', ')=', '\\\\', 'sqrt', '{', '10', '}', 'x', '^{-', '8', '/-', '8', '}+', 'C_', '{', '1', '}=-', '\\\\', 'frac', '{', '5', '}', '{', '4', '}', 'x', '^{', '8', '}+', 'C_', '{', '1', '}', '\\\\', 'quad', '\\\\', 'mathrm', '{', 'if', '~}', 'x', '<', '0', '.']\n",
      "TeXBLEU score for candidate1: 0.0473\n"
     ]
    }
   ],
   "source": [
    "from metric import TeXBLEU\n",
    "\n",
    "texbleu = TeXBLEU(\"Kyudan/TeXBLEU-Tokenizer\")\n",
    "\n",
    "reference = r\"F(x)={\\sqrt{\\frac{10x^{-8}}{-8}}}+C_{1} =-{\\frac{5}{4x^{8}}}+C_{1}\\quad{\\mathrm {if~}}x<0.\"\n",
    "candidate1 = r\"F(x)=\\sqrt{10}x^{-8/-8}+C_{1}=-\\frac{5} {4}x^{8}+C_{1}\\quad\\mathrm{if~}x<0.\"\n",
    "\n",
    "score1 = texbleu.calculate_texbleu(reference, candidate1)\n",
    "print(f\"TeXBLEU score for candidate1: {score1:.4f}\") "
   ]
  },
  {
   "cell_type": "code",
   "execution_count": 5,
   "metadata": {},
   "outputs": [
    {
     "name": "stdout",
     "output_type": "stream",
     "text": [
      "Tokenized text: [65, 35, 115, 8680, 118, 87, 8364, 118, 87, 7911, 118, 8006, 115, 8193, 51, 7842, 8511, 51, 8461, 38, 8870, 118, 44, 120, 10796, 118, 87, 7911, 118, 48, 7869, 22121, 7862, 51, 8461, 38, 8870, 118, 44, 120, 87, 8318, 118, 87, 8195, 118, 8069, 121, 7842, 115, 55, 43, 41]\n",
      "Decoded tokens: ['F', '(', 'x', ')=', '{', '\\\\', 'sqrt', '{', '\\\\', 'frac', '{', '10', 'x', '^{-', '8', '}}', '{-', '8', '}}}', '+', 'C_', '{', '1', '}', '=-', '{', '\\\\', 'frac', '{', '5', '}{', '4x', '^{', '8', '}}}', '+', 'C_', '{', '1', '}', '\\\\', 'quad', '{', '\\\\', 'mathrm', '{', 'if', '~', '}}', 'x', '<', '0', '.']\n",
      "Tokenized text: [65, 35, 115, 8680, 87, 8364, 118, 8006, 120, 115, 8193, 51, 24915, 51, 9109, 8870, 118, 44, 16802, 87, 7911, 118, 48, 120, 118, 47, 120, 115, 7862, 51, 9109, 8870, 118, 44, 120, 87, 8318, 87, 8195, 118, 8069, 22545, 115, 55, 43, 41]\n",
      "Decoded tokens: ['F', '(', 'x', ')=', '\\\\', 'sqrt', '{', '10', '}', 'x', '^{-', '8', '/-', '8', '}+', 'C_', '{', '1', '}=-', '\\\\', 'frac', '{', '5', '}', '{', '4', '}', 'x', '^{', '8', '}+', 'C_', '{', '1', '}', '\\\\', 'quad', '\\\\', 'mathrm', '{', 'if', '~}', 'x', '<', '0', '.']\n"
     ]
    },
    {
     "data": {
      "text/plain": [
       "0.6567"
      ]
     },
     "execution_count": 5,
     "metadata": {},
     "output_type": "execute_result"
    }
   ],
   "source": [
    "from new_metric import texbleu\n",
    "\n",
    "reference = r\"F(x)={\\sqrt{\\frac{10x^{-8}}{-8}}}+C_{1} =-{\\frac{5}{4x^{8}}}+C_{1}\\quad{\\mathrm {if~}}x<0.\"\n",
    "candidate1 = r\"F(x)=\\sqrt{10}x^{-8/-8}+C_{1}=-\\frac{5} {4}x^{8}+C_{1}\\quad\\mathrm{if~}x<0.\"\n",
    "texbleu(reference,candidate1)"
   ]
  },
  {
   "cell_type": "code",
   "execution_count": null,
   "metadata": {},
   "outputs": [],
   "source": []
  }
 ],
 "metadata": {
  "kernelspec": {
   "display_name": "venv",
   "language": "python",
   "name": "python3"
  },
  "language_info": {
   "codemirror_mode": {
    "name": "ipython",
    "version": 3
   },
   "file_extension": ".py",
   "mimetype": "text/x-python",
   "name": "python",
   "nbconvert_exporter": "python",
   "pygments_lexer": "ipython3",
   "version": "3.12.2"
  }
 },
 "nbformat": 4,
 "nbformat_minor": 2
}
